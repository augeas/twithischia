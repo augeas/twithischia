{
 "cells": [
  {
   "cell_type": "markdown",
   "metadata": {},
   "source": [
    "# Twithischia\n",
    "In which we implement [@GalacticFurball's](https://twitter.com/GalacticFurball)\n",
    "[Twitter steganography](https://twitter.com/GalacticFurball/status/1439259660658241539)\n",
    "clumsily with [Numpy](https://numpy.org/) instead of elegantly with\n",
    "[ImageMagick](https://github.com/discatte/tweetdoom). (One also might get it going in the browser\n",
    "with [Pyodide](https://pyodide.org/en/stable/))\n",
    "\n",
    "We hide .zip files in the lower 4 bits of Twitter images, providing Twitter has `b0rked` them *isufficiently*.\n",
    "\n",
    "*Gentle reader*, click \"Run All\" from the \"Cell\" or \"Run\" menu..."
   ]
  },
  {
   "cell_type": "code",
   "execution_count": null,
   "metadata": {},
   "outputs": [],
   "source": [
    "from io import BytesIO\n",
    "from itertools import starmap\n",
    "import os\n",
    "import urllib3\n",
    "import zipfile\n",
    "\n",
    "import imageio\n",
    "from IPython.display import display\n",
    "import ipywidgets as widgets\n",
    "import numpy as np"
   ]
  },
  {
   "cell_type": "code",
   "execution_count": null,
   "metadata": {},
   "outputs": [],
   "source": [
    "def pull_image(url):\n",
    "    pool = urllib3.PoolManager()\n",
    "    try:\n",
    "        resp = pool.request('GET', url, preload_content=False).data\n",
    "        return imageio.imread(resp)\n",
    "    except:\n",
    "        return None"
   ]
  },
  {
   "cell_type": "markdown",
   "metadata": {},
   "source": [
    "By some miracle, [np.ravel()](https://numpy.org/doc/stable/reference/generated/numpy.ravel.html) gets the image\n",
    "the right way up. Then, we just need to combine the low and high nibbles from the original .zip file,"
   ]
  },
  {
   "cell_type": "code",
   "execution_count": null,
   "metadata": {},
   "outputs": [],
   "source": [
    "def raw_bytes(img):\n",
    "    nibbles = img.ravel() & 15\n",
    "    return 16 * nibbles[0::2] + nibbles[1::2]"
   ]
  },
  {
   "cell_type": "markdown",
   "metadata": {},
   "source": [
    "Many zip implentations don't ike zero-padding, thus we look for the \n",
    "[End_of_central_directory_record_(EOCD)](https://en.wikipedia.org/wiki/ZIP_(file_format)#End_of_central_directory_record_(EOCD)), `0x06054b50`. 20 bytes in from that is a little-endian word telling us how many comment bytes follow."
   ]
  },
  {
   "cell_type": "code",
   "execution_count": null,
   "metadata": {},
   "outputs": [],
   "source": [
    "__eocdr__ = np.array([80, 75, 5, 6])\n",
    "\n",
    "def find_eocdr(arr):\n",
    "    # There's got to be a better way...\n",
    "    for i in range(len(arr)-4, -1, -1):\n",
    "        if (arr[i:i+4] == __eocdr__).all():\n",
    "            return i\n",
    "    return None\n",
    "\n",
    "\n",
    "def trim_zip(arr):\n",
    "    end = find_eocdr(arr)\n",
    "    if not end:\n",
    "        return None\n",
    "    com_len = arr[end+20] + arr[end+21] << 8\n",
    "    return arr[:end+22+com_len]\n",
    "\n",
    "\n",
    "def test_zip(arr):\n",
    "    try:\n",
    "        zp = zipfile.ZipFile(BytesIO(arr.tobytes()))\n",
    "    except:\n",
    "        return None\n",
    "    \n",
    "    return [(f.filename, f.file_size) for f in zp.filelist]"
   ]
  },
  {
   "cell_type": "markdown",
   "metadata": {},
   "source": [
    "Various bodging with [ipywidgets](https://ipywidgets.readthedocs.io/en/stable/):"
   ]
  },
  {
   "cell_type": "code",
   "execution_count": null,
   "metadata": {},
   "outputs": [],
   "source": [
    "urls_box = widgets.VBox([widgets.Text(placeholder='enter the URL of a .png')])\n",
    "add_button = widgets.Button(description='add url')\n",
    "get_button = widgets.Button(description='get .zip')\n",
    "but_box = widgets.HBox([add_button, get_button])\n",
    "download = widgets.HTML()\n",
    "root_box = widgets.VBox([urls_box, but_box, download])"
   ]
  },
  {
   "cell_type": "code",
   "execution_count": null,
   "metadata": {},
   "outputs": [],
   "source": [
    "def new_url(_):\n",
    "    urls_box.children = tuple(urls_box.children\n",
    "        +(widgets.Text(placeholder='enter the URL of a .png'),))"
   ]
  },
  {
   "cell_type": "code",
   "execution_count": null,
   "metadata": {},
   "outputs": [],
   "source": [
    "def get_zip(_):\n",
    "    images = (pull_image(t.value) for t in urls_box.children)\n",
    "    zip_bytes =  np.concatenate([raw_bytes(img)\n",
    "        for img in images if not img is None])\n",
    "    clean_zip = trim_zip(zip_bytes)\n",
    "    \n",
    "    content = test_zip(clean_zip)\n",
    "    \n",
    "    if content:\n",
    "        with open('twithischia.zip', 'wb') as f:\n",
    "            f.write(clean_zip.tobytes())\n",
    "        download.value = '<table>{}</table>'.format('\\n'.join(\n",
    "            starmap('<tr><td>{}</td><td>{}</td></tr>'.format, content)))\n",
    "    else:\n",
    "        download.value = '<h3>Broken URL, image or zipfile</h3>'"
   ]
  },
  {
   "cell_type": "markdown",
   "metadata": {},
   "source": [
    "## Decoding Images:\n",
    "\n",
    "Some manner of UI should appear below...\n",
    "\n",
    "*Gentle reader*, you might want to paste in these URLs if you want to play Doom:\n",
    "\n",
    "`https://pbs.twimg.com/media/E_lG3ujVUAEKqWN?format=png&name=900x900`\n",
    "\n",
    "`https://pbs.twimg.com/media/E_lG4SVVcAUK9Rq?format=png&name=900x900`\n",
    "\n",
    "`https://pbs.twimg.com/media/E_lG4_LVEAAclU2?format=png&name=900x900`"
   ]
  },
  {
   "cell_type": "code",
   "execution_count": null,
   "metadata": {},
   "outputs": [],
   "source": [
    "add_button.on_click(new_url)\n",
    "get_button.on_click(get_zip)\n",
    "display(root_box)"
   ]
  }
 ],
 "metadata": {
  "kernelspec": {
   "display_name": "Python 3",
   "language": "python",
   "name": "python3"
  },
  "language_info": {
   "codemirror_mode": {
    "name": "ipython",
    "version": 3
   },
   "file_extension": ".py",
   "mimetype": "text/x-python",
   "name": "python",
   "nbconvert_exporter": "python",
   "pygments_lexer": "ipython3",
   "version": "3.6.9"
  }
 },
 "nbformat": 4,
 "nbformat_minor": 2
}
